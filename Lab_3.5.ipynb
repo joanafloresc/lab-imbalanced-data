{
 "cells": [
  {
   "cell_type": "markdown",
   "id": "b08405ec",
   "metadata": {},
   "source": [
    "## 1. Load the dataset and explore the variables."
   ]
  },
  {
   "cell_type": "markdown",
   "id": "8da22434",
   "metadata": {},
   "source": [
    "### importing libraries"
   ]
  },
  {
   "cell_type": "code",
   "execution_count": 1,
   "id": "632eaadb",
   "metadata": {},
   "outputs": [],
   "source": [
    "import pandas as pd\n",
    "import numpy as np\n",
    "\n",
    "from sklearn.model_selection import train_test_split\n",
    "from sklearn.preprocessing import MinMaxScaler, PowerTransformer\n",
    "from sklearn.linear_model import LogisticRegression\n",
    "from sklearn.metrics import cohen_kappa_score, accuracy_score, classification_report, confusion_matrix, ConfusionMatrixDisplay\n",
    "from imblearn.over_sampling import SMOTENC\n",
    "\n",
    "import matplotlib.pyplot as plt\n",
    "import seaborn as sns"
   ]
  },
  {
   "cell_type": "markdown",
   "id": "fefa4c4c",
   "metadata": {},
   "source": [
    "### downloading data"
   ]
  },
  {
   "cell_type": "code",
   "execution_count": 2,
   "id": "3d7d512d",
   "metadata": {},
   "outputs": [],
   "source": [
    "data = pd.read_csv('files_for_lab/customer_churn.csv')"
   ]
  },
  {
   "cell_type": "code",
   "execution_count": 3,
   "id": "86d432e8",
   "metadata": {},
   "outputs": [
    {
     "name": "stdout",
     "output_type": "stream",
     "text": [
      "(7043, 21)\n"
     ]
    },
    {
     "data": {
      "text/html": [
       "<div>\n",
       "<style scoped>\n",
       "    .dataframe tbody tr th:only-of-type {\n",
       "        vertical-align: middle;\n",
       "    }\n",
       "\n",
       "    .dataframe tbody tr th {\n",
       "        vertical-align: top;\n",
       "    }\n",
       "\n",
       "    .dataframe thead th {\n",
       "        text-align: right;\n",
       "    }\n",
       "</style>\n",
       "<table border=\"1\" class=\"dataframe\">\n",
       "  <thead>\n",
       "    <tr style=\"text-align: right;\">\n",
       "      <th></th>\n",
       "      <th>customerID</th>\n",
       "      <th>gender</th>\n",
       "      <th>SeniorCitizen</th>\n",
       "      <th>Partner</th>\n",
       "      <th>Dependents</th>\n",
       "      <th>tenure</th>\n",
       "      <th>PhoneService</th>\n",
       "      <th>MultipleLines</th>\n",
       "      <th>InternetService</th>\n",
       "      <th>OnlineSecurity</th>\n",
       "      <th>OnlineBackup</th>\n",
       "      <th>DeviceProtection</th>\n",
       "      <th>TechSupport</th>\n",
       "      <th>StreamingTV</th>\n",
       "      <th>StreamingMovies</th>\n",
       "      <th>Contract</th>\n",
       "      <th>PaperlessBilling</th>\n",
       "      <th>PaymentMethod</th>\n",
       "      <th>MonthlyCharges</th>\n",
       "      <th>TotalCharges</th>\n",
       "      <th>Churn</th>\n",
       "    </tr>\n",
       "  </thead>\n",
       "  <tbody>\n",
       "    <tr>\n",
       "      <th>0</th>\n",
       "      <td>7590-VHVEG</td>\n",
       "      <td>Female</td>\n",
       "      <td>0</td>\n",
       "      <td>Yes</td>\n",
       "      <td>No</td>\n",
       "      <td>1</td>\n",
       "      <td>No</td>\n",
       "      <td>No phone service</td>\n",
       "      <td>DSL</td>\n",
       "      <td>No</td>\n",
       "      <td>Yes</td>\n",
       "      <td>No</td>\n",
       "      <td>No</td>\n",
       "      <td>No</td>\n",
       "      <td>No</td>\n",
       "      <td>Month-to-month</td>\n",
       "      <td>Yes</td>\n",
       "      <td>Electronic check</td>\n",
       "      <td>29.85</td>\n",
       "      <td>29.85</td>\n",
       "      <td>No</td>\n",
       "    </tr>\n",
       "    <tr>\n",
       "      <th>1</th>\n",
       "      <td>5575-GNVDE</td>\n",
       "      <td>Male</td>\n",
       "      <td>0</td>\n",
       "      <td>No</td>\n",
       "      <td>No</td>\n",
       "      <td>34</td>\n",
       "      <td>Yes</td>\n",
       "      <td>No</td>\n",
       "      <td>DSL</td>\n",
       "      <td>Yes</td>\n",
       "      <td>No</td>\n",
       "      <td>Yes</td>\n",
       "      <td>No</td>\n",
       "      <td>No</td>\n",
       "      <td>No</td>\n",
       "      <td>One year</td>\n",
       "      <td>No</td>\n",
       "      <td>Mailed check</td>\n",
       "      <td>56.95</td>\n",
       "      <td>1889.5</td>\n",
       "      <td>No</td>\n",
       "    </tr>\n",
       "    <tr>\n",
       "      <th>2</th>\n",
       "      <td>3668-QPYBK</td>\n",
       "      <td>Male</td>\n",
       "      <td>0</td>\n",
       "      <td>No</td>\n",
       "      <td>No</td>\n",
       "      <td>2</td>\n",
       "      <td>Yes</td>\n",
       "      <td>No</td>\n",
       "      <td>DSL</td>\n",
       "      <td>Yes</td>\n",
       "      <td>Yes</td>\n",
       "      <td>No</td>\n",
       "      <td>No</td>\n",
       "      <td>No</td>\n",
       "      <td>No</td>\n",
       "      <td>Month-to-month</td>\n",
       "      <td>Yes</td>\n",
       "      <td>Mailed check</td>\n",
       "      <td>53.85</td>\n",
       "      <td>108.15</td>\n",
       "      <td>Yes</td>\n",
       "    </tr>\n",
       "    <tr>\n",
       "      <th>3</th>\n",
       "      <td>7795-CFOCW</td>\n",
       "      <td>Male</td>\n",
       "      <td>0</td>\n",
       "      <td>No</td>\n",
       "      <td>No</td>\n",
       "      <td>45</td>\n",
       "      <td>No</td>\n",
       "      <td>No phone service</td>\n",
       "      <td>DSL</td>\n",
       "      <td>Yes</td>\n",
       "      <td>No</td>\n",
       "      <td>Yes</td>\n",
       "      <td>Yes</td>\n",
       "      <td>No</td>\n",
       "      <td>No</td>\n",
       "      <td>One year</td>\n",
       "      <td>No</td>\n",
       "      <td>Bank transfer (automatic)</td>\n",
       "      <td>42.30</td>\n",
       "      <td>1840.75</td>\n",
       "      <td>No</td>\n",
       "    </tr>\n",
       "    <tr>\n",
       "      <th>4</th>\n",
       "      <td>9237-HQITU</td>\n",
       "      <td>Female</td>\n",
       "      <td>0</td>\n",
       "      <td>No</td>\n",
       "      <td>No</td>\n",
       "      <td>2</td>\n",
       "      <td>Yes</td>\n",
       "      <td>No</td>\n",
       "      <td>Fiber optic</td>\n",
       "      <td>No</td>\n",
       "      <td>No</td>\n",
       "      <td>No</td>\n",
       "      <td>No</td>\n",
       "      <td>No</td>\n",
       "      <td>No</td>\n",
       "      <td>Month-to-month</td>\n",
       "      <td>Yes</td>\n",
       "      <td>Electronic check</td>\n",
       "      <td>70.70</td>\n",
       "      <td>151.65</td>\n",
       "      <td>Yes</td>\n",
       "    </tr>\n",
       "  </tbody>\n",
       "</table>\n",
       "</div>"
      ],
      "text/plain": [
       "   customerID  gender  SeniorCitizen Partner Dependents  tenure PhoneService  \\\n",
       "0  7590-VHVEG  Female              0     Yes         No       1           No   \n",
       "1  5575-GNVDE    Male              0      No         No      34          Yes   \n",
       "2  3668-QPYBK    Male              0      No         No       2          Yes   \n",
       "3  7795-CFOCW    Male              0      No         No      45           No   \n",
       "4  9237-HQITU  Female              0      No         No       2          Yes   \n",
       "\n",
       "      MultipleLines InternetService OnlineSecurity OnlineBackup  \\\n",
       "0  No phone service             DSL             No          Yes   \n",
       "1                No             DSL            Yes           No   \n",
       "2                No             DSL            Yes          Yes   \n",
       "3  No phone service             DSL            Yes           No   \n",
       "4                No     Fiber optic             No           No   \n",
       "\n",
       "  DeviceProtection TechSupport StreamingTV StreamingMovies        Contract  \\\n",
       "0               No          No          No              No  Month-to-month   \n",
       "1              Yes          No          No              No        One year   \n",
       "2               No          No          No              No  Month-to-month   \n",
       "3              Yes         Yes          No              No        One year   \n",
       "4               No          No          No              No  Month-to-month   \n",
       "\n",
       "  PaperlessBilling              PaymentMethod  MonthlyCharges TotalCharges  \\\n",
       "0              Yes           Electronic check           29.85        29.85   \n",
       "1               No               Mailed check           56.95       1889.5   \n",
       "2              Yes               Mailed check           53.85       108.15   \n",
       "3               No  Bank transfer (automatic)           42.30      1840.75   \n",
       "4              Yes           Electronic check           70.70       151.65   \n",
       "\n",
       "  Churn  \n",
       "0    No  \n",
       "1    No  \n",
       "2   Yes  \n",
       "3    No  \n",
       "4   Yes  "
      ]
     },
     "execution_count": 3,
     "metadata": {},
     "output_type": "execute_result"
    }
   ],
   "source": [
    "print(data.shape)\n",
    "pd.set_option('display.max_columns', 21)\n",
    "data.head()"
   ]
  },
  {
   "cell_type": "markdown",
   "id": "2b9a4e91",
   "metadata": {},
   "source": [
    "### standardizing column names"
   ]
  },
  {
   "cell_type": "code",
   "execution_count": 4,
   "id": "dc43a005",
   "metadata": {},
   "outputs": [],
   "source": [
    "def std_col_names(data):\n",
    "    '''function to standardize column_names'''  \n",
    "    \n",
    "    import re\n",
    "    data_c = data.copy()\n",
    "    \n",
    "    #changing header names\n",
    "    cols = []\n",
    "    #lowering cases and replacing space with underscore\n",
    "    for i in data_c.columns: cols.append(re.sub('([a-z])([A-Z])', r'\\1_\\2', i).lower())\n",
    "    data_c.columns = cols \n",
    "    \n",
    "    return data_c\n",
    "\n",
    "data = std_col_names(data)"
   ]
  },
  {
   "cell_type": "markdown",
   "id": "bebaecd5",
   "metadata": {},
   "source": [
    "### check customer_id duplicates"
   ]
  },
  {
   "cell_type": "code",
   "execution_count": 5,
   "id": "91b21f69",
   "metadata": {},
   "outputs": [
    {
     "data": {
      "text/plain": [
       "7043"
      ]
     },
     "execution_count": 5,
     "metadata": {},
     "output_type": "execute_result"
    }
   ],
   "source": [
    "len(data.customer_id.unique()) #no duplicates"
   ]
  },
  {
   "cell_type": "markdown",
   "id": "ecad08d9",
   "metadata": {},
   "source": [
    "### checking nulls"
   ]
  },
  {
   "cell_type": "code",
   "execution_count": 6,
   "id": "6eb887ab",
   "metadata": {},
   "outputs": [
    {
     "data": {
      "text/plain": [
       "customer_id          0\n",
       "gender               0\n",
       "senior_citizen       0\n",
       "partner              0\n",
       "dependents           0\n",
       "tenure               0\n",
       "phone_service        0\n",
       "multiple_lines       0\n",
       "internet_service     0\n",
       "online_security      0\n",
       "online_backup        0\n",
       "device_protection    0\n",
       "tech_support         0\n",
       "streaming_tv         0\n",
       "streaming_movies     0\n",
       "contract             0\n",
       "paperless_billing    0\n",
       "payment_method       0\n",
       "monthly_charges      0\n",
       "total_charges        0\n",
       "churn                0\n",
       "dtype: int64"
      ]
     },
     "execution_count": 6,
     "metadata": {},
     "output_type": "execute_result"
    }
   ],
   "source": [
    "data.isna().sum()"
   ]
  },
  {
   "cell_type": "markdown",
   "id": "8d7a8a63",
   "metadata": {},
   "source": [
    "### exploring data"
   ]
  },
  {
   "cell_type": "code",
   "execution_count": 7,
   "id": "a2446b5c",
   "metadata": {},
   "outputs": [
    {
     "data": {
      "text/plain": [
       "customer_id           object\n",
       "gender                object\n",
       "senior_citizen         int64\n",
       "partner               object\n",
       "dependents            object\n",
       "tenure                 int64\n",
       "phone_service         object\n",
       "multiple_lines        object\n",
       "internet_service      object\n",
       "online_security       object\n",
       "online_backup         object\n",
       "device_protection     object\n",
       "tech_support          object\n",
       "streaming_tv          object\n",
       "streaming_movies      object\n",
       "contract              object\n",
       "paperless_billing     object\n",
       "payment_method        object\n",
       "monthly_charges      float64\n",
       "total_charges         object\n",
       "churn                 object\n",
       "dtype: object"
      ]
     },
     "execution_count": 7,
     "metadata": {},
     "output_type": "execute_result"
    }
   ],
   "source": [
    "data.dtypes"
   ]
  },
  {
   "cell_type": "code",
   "execution_count": 8,
   "id": "32e068ac",
   "metadata": {},
   "outputs": [
    {
     "data": {
      "text/plain": [
       "[' ', ' ', ' ', ' ', ' ', ' ', ' ', ' ', ' ', ' ', ' ', '100.2']"
      ]
     },
     "execution_count": 8,
     "metadata": {},
     "output_type": "execute_result"
    }
   ],
   "source": [
    "#why total_charges is not a float?\n",
    "list(data['total_charges'].sort_values())[0:12]"
   ]
  },
  {
   "cell_type": "code",
   "execution_count": 9,
   "id": "24128a6a",
   "metadata": {},
   "outputs": [
    {
     "data": {
      "text/plain": [
       "False    99.843817\n",
       "True      0.156183\n",
       "Name: total_charges, dtype: float64"
      ]
     },
     "execution_count": 9,
     "metadata": {},
     "output_type": "execute_result"
    }
   ],
   "source": [
    "(data['total_charges'] == ' ').value_counts()/len(data)*100"
   ]
  },
  {
   "cell_type": "code",
   "execution_count": 10,
   "id": "8329c2c5",
   "metadata": {},
   "outputs": [],
   "source": [
    "#dropping these (only 0,15%)\n",
    "data = data[data['total_charges'] != ' ']"
   ]
  },
  {
   "cell_type": "code",
   "execution_count": 11,
   "id": "e8ae2914",
   "metadata": {},
   "outputs": [],
   "source": [
    "#changing dtypes\n",
    "data = data.astype({'senior_citizen':'object',\n",
    "                    'total_charges':'float'})"
   ]
  },
  {
   "cell_type": "code",
   "execution_count": 12,
   "id": "1acf2442",
   "metadata": {},
   "outputs": [],
   "source": [
    "#checking value_counts() in categorical columns\n",
    "\n",
    "#for i in data.drop(['customer_id'], axis = 1).select_dtypes('object').columns: print(data[i].value_counts(),'\\n') "
   ]
  },
  {
   "cell_type": "markdown",
   "id": "88730d97",
   "metadata": {},
   "source": [
    "## 2. We will try to predict variable Churn using a logistic regression on variables tenure, SeniorCitizen,MonthlyCharges."
   ]
  },
  {
   "cell_type": "markdown",
   "id": "928a2353",
   "metadata": {},
   "source": [
    "## 3. Extract the target variable."
   ]
  },
  {
   "cell_type": "code",
   "execution_count": 13,
   "id": "2908a847",
   "metadata": {},
   "outputs": [],
   "source": [
    "y = data['churn']"
   ]
  },
  {
   "cell_type": "markdown",
   "id": "7927b54c",
   "metadata": {},
   "source": [
    "## 4. Extract the independent variables and scale them."
   ]
  },
  {
   "cell_type": "code",
   "execution_count": 14,
   "id": "488081f0",
   "metadata": {},
   "outputs": [],
   "source": [
    "#x = data.drop(['customer_id','churn'], axis=1)\n",
    "x = data[['tenure','senior_citizen','monthly_charges']]"
   ]
  },
  {
   "cell_type": "markdown",
   "id": "63b4fdeb",
   "metadata": {},
   "source": [
    "### splitting x-y & train-test"
   ]
  },
  {
   "cell_type": "code",
   "execution_count": 15,
   "id": "1efe6845",
   "metadata": {},
   "outputs": [],
   "source": [
    "#split x_num, normal dataset, I am diving 0.8:0.2\n",
    "x_tr, x_te, y_tr, y_te = train_test_split(x, y, test_size=0.2, random_state=42)"
   ]
  },
  {
   "cell_type": "markdown",
   "id": "2c285459",
   "metadata": {},
   "source": [
    "### split numerical categorical"
   ]
  },
  {
   "cell_type": "code",
   "execution_count": 16,
   "id": "494211a3",
   "metadata": {},
   "outputs": [],
   "source": [
    "x_tr_n = x_tr.select_dtypes(np.number)\n",
    "x_tr_c = x_tr.select_dtypes('object')\n",
    "x_te_n = x_te.select_dtypes(np.number)\n",
    "x_te_c = x_te.select_dtypes('object')"
   ]
  },
  {
   "cell_type": "markdown",
   "id": "59b16016",
   "metadata": {},
   "source": [
    "### transforming numerical data"
   ]
  },
  {
   "cell_type": "code",
   "execution_count": 17,
   "id": "7c9062b0",
   "metadata": {},
   "outputs": [
    {
     "data": {
      "image/png": "[encoded data removed]",
      "text/plain": [
       "<Figure size 640x480 with 1 Axes>"
      ]
     },
     "metadata": {},
     "output_type": "display_data"
    },
    {
     "data": {
      "image/png": "[encoded data removed]",
      "text/plain": [
       "<Figure size 640x480 with 1 Axes>"
      ]
     },
     "metadata": {},
     "output_type": "display_data"
    }
   ],
   "source": [
    "def plot_hist(df):\n",
    "    list_of_ncolumns = list(df.select_dtypes(np.number))\n",
    "    #list with numeric columns names\n",
    "    for col in list_of_ncolumns:\n",
    "        sns.histplot(df[col])\n",
    "        plt.show()\n",
    "        \n",
    "plot_hist(x_tr_n)"
   ]
  },
  {
   "cell_type": "code",
   "execution_count": 18,
   "id": "e646699e",
   "metadata": {},
   "outputs": [
    {
     "data": {
      "image/png": "[encoded data removed]",
      "text/plain": [
       "<Figure size 640x480 with 1 Axes>"
      ]
     },
     "metadata": {},
     "output_type": "display_data"
    },
    {
     "data": {
      "image/png": "[encoded data removed]",
      "text/plain": [
       "<Figure size 640x480 with 1 Axes>"
      ]
     },
     "metadata": {},
     "output_type": "display_data"
    }
   ],
   "source": [
    "# Scaling numerical data\n",
    "transformer = PowerTransformer().fit(x_tr_n)\n",
    "\n",
    "x_tr_nnorm = pd.DataFrame(transformer.transform(x_tr_n), columns = x_tr_n.columns)\n",
    "x_te_nnorm = pd.DataFrame(transformer.transform(x_te_n), columns = x_te_n.columns)\n",
    "\n",
    "transformer = MinMaxScaler().fit(x_tr_nnorm)\n",
    "\n",
    "x_tr_nnorm = pd.DataFrame(transformer.transform(x_tr_nnorm), columns = x_tr_n.columns)\n",
    "x_te_nnorm = pd.DataFrame(transformer.transform(x_te_nnorm), columns = x_te_n.columns)\n",
    "\n",
    "plot_hist(x_tr_nnorm)"
   ]
  },
  {
   "cell_type": "markdown",
   "id": "100845fe",
   "metadata": {},
   "source": [
    "### transforming categorical data"
   ]
  },
  {
   "cell_type": "code",
   "execution_count": 19,
   "id": "d48cc958",
   "metadata": {},
   "outputs": [],
   "source": [
    "# Transforming categorical data\n",
    "#from sklearn.preprocessing import OneHotEncoder\n",
    "\n",
    "#encoder = OneHotEncoder(drop='first').fit(x_tr_c)\n",
    "\n",
    "#x_tr_c = encoder.transform(x_tr_c).toarray()\n",
    "#x_te_c = encoder.transform(x_te_c).toarray()\n",
    "\n",
    "#x_tr_c = pd.DataFrame(x_tr_c, columns = encoder.get_feature_names_out())\n",
    "#x_te_c = pd.DataFrame(x_te_c, columns = encoder.get_feature_names_out())"
   ]
  },
  {
   "cell_type": "code",
   "execution_count": 20,
   "id": "bcd0fd70",
   "metadata": {},
   "outputs": [
    {
     "data": {
      "text/plain": [
       "senior_citizen\n",
       "0                 4721\n",
       "1                  904\n",
       "dtype: int64"
      ]
     },
     "execution_count": 20,
     "metadata": {},
     "output_type": "execute_result"
    }
   ],
   "source": [
    "x_tr_c.value_counts()\n",
    "#already one hot encoded"
   ]
  },
  {
   "cell_type": "markdown",
   "id": "2699a5cd",
   "metadata": {},
   "source": [
    "### Joining numerical-categorical"
   ]
  },
  {
   "cell_type": "code",
   "execution_count": 21,
   "id": "e8707646",
   "metadata": {},
   "outputs": [],
   "source": [
    "x_tr_f = np.concatenate([x_tr_nnorm, x_tr_c], axis=1)\n",
    "x_te_f = np.concatenate([x_te_nnorm, x_te_c], axis=1)"
   ]
  },
  {
   "cell_type": "markdown",
   "id": "e67a5977",
   "metadata": {},
   "source": [
    "## 7. Build the logistic regression model."
   ]
  },
  {
   "cell_type": "code",
   "execution_count": 22,
   "id": "1daec2a3",
   "metadata": {},
   "outputs": [],
   "source": [
    "lr = LogisticRegression(random_state=0, solver='lbfgs',\n",
    "                          max_iter=1000, multi_class='multinomial')\n",
    "\n",
    "lr.fit(x_tr_f, y_tr)\n",
    "y_te_pr = lr.predict(x_te_f)"
   ]
  },
  {
   "cell_type": "markdown",
   "id": "10f557f3",
   "metadata": {},
   "source": [
    "## 6. Evaluate the model."
   ]
  },
  {
   "cell_type": "code",
   "execution_count": 25,
   "id": "e4d5f707",
   "metadata": {},
   "outputs": [
    {
     "name": "stdout",
     "output_type": "stream",
     "text": [
      "score is 0.7839374555792467\n",
      "coher_kappa score is 0.3868208808443169\n",
      "              precision    recall  f1-score   support\n",
      "\n",
      "          No       0.82      0.91      0.86      1033\n",
      "         Yes       0.63      0.44      0.52       374\n",
      "\n",
      "    accuracy                           0.78      1407\n",
      "   macro avg       0.73      0.67      0.69      1407\n",
      "weighted avg       0.77      0.78      0.77      1407\n",
      "\n"
     ]
    }
   ],
   "source": [
    "print(\"score is\", lr.score(x_te_f,y_te))\n",
    "print(\"coher_kappa score is\", cohen_kappa_score(y_te, y_te_pr))\n",
    "print(classification_report(y_te, y_te_pr, zero_division = 0))"
   ]
  },
  {
   "cell_type": "code",
   "execution_count": 26,
   "id": "0582227a",
   "metadata": {},
   "outputs": [
    {
     "data": {
      "text/plain": [
       "<sklearn.metrics._plot.confusion_matrix.ConfusionMatrixDisplay at 0x1d0a34dacd0>"
      ]
     },
     "execution_count": 26,
     "metadata": {},
     "output_type": "execute_result"
    },
    {
     "data": {
      "image/png": "[encoded data removed]",
      "text/plain": [
       "<Figure size 640x480 with 2 Axes>"
      ]
     },
     "metadata": {},
     "output_type": "display_data"
    }
   ],
   "source": [
    "conf_mat = confusion_matrix(y_te, y_te_pr)\n",
    "ConfusionMatrixDisplay(conf_mat, display_labels=lr.classes_).plot()"
   ]
  },
  {
   "cell_type": "markdown",
   "id": "4b96aacf",
   "metadata": {},
   "source": [
    "## 7. Even a simple model will give us more than 70% accuracy. Why?"
   ]
  },
  {
   "cell_type": "code",
   "execution_count": 27,
   "id": "acab1a18",
   "metadata": {},
   "outputs": [
    {
     "data": {
      "text/plain": [
       "26.578498293515356"
      ]
     },
     "execution_count": 27,
     "metadata": {},
     "output_type": "execute_result"
    }
   ],
   "source": [
    "len(data[data['churn'] == 'Yes'])/len(data)*100\n",
    "#imbalaced data"
   ]
  },
  {
   "cell_type": "markdown",
   "id": "8ac06c32",
   "metadata": {},
   "source": [
    "## 8. Synthetic Minority Oversampling TEchnique (SMOTE) (...). Is it there any improvement?"
   ]
  },
  {
   "cell_type": "markdown",
   "id": "e07757f2",
   "metadata": {},
   "source": [
    "https://imbalanced-learn.org/stable/references/generated/imblearn.over_sampling.SMOTE.html?highlight=smote#imblearn.over_sampling.SMOTE\n",
    "\n",
    "SMOTENC\n",
    "Over-sample using SMOTE for continuous and categorical features.\n",
    "\n",
    "tried this instead of SMOTE"
   ]
  },
  {
   "cell_type": "code",
   "execution_count": 28,
   "id": "f69a6d53",
   "metadata": {},
   "outputs": [
    {
     "name": "stdout",
     "output_type": "stream",
     "text": [
      "(5625, 3)\n",
      "(8260, 3)\n"
     ]
    },
    {
     "data": {
      "text/plain": [
       "Yes    4130\n",
       "No     4130\n",
       "Name: churn, dtype: int64"
      ]
     },
     "execution_count": 28,
     "metadata": {},
     "output_type": "execute_result"
    }
   ],
   "source": [
    "sm = SMOTENC(random_state=42,k_neighbors=5, categorical_features=[2])\n",
    "\n",
    "x_tr_SMOTE,y_tr_SMOTE = sm.fit_resample(x_tr_f,y_tr)\n",
    "\n",
    "print(x_tr.shape)\n",
    "print(x_tr_SMOTE.shape)\n",
    "y_tr_SMOTE.value_counts()"
   ]
  },
  {
   "cell_type": "code",
   "execution_count": 31,
   "id": "4ba04bb6",
   "metadata": {},
   "outputs": [
    {
     "name": "stdout",
     "output_type": "stream",
     "text": [
      "score is 0.7569296375266524\n",
      "coher_kappa score is 0.39075331278851577\n",
      "              precision    recall  f1-score   support\n",
      "\n",
      "          No       0.84      0.82      0.83      1033\n",
      "         Yes       0.54      0.58      0.56       374\n",
      "\n",
      "    accuracy                           0.76      1407\n",
      "   macro avg       0.69      0.70      0.70      1407\n",
      "weighted avg       0.76      0.76      0.76      1407\n",
      "\n"
     ]
    }
   ],
   "source": [
    "lr = LogisticRegression(random_state=0, solver='lbfgs',\n",
    "                          max_iter=1000, multi_class='multinomial')\n",
    "\n",
    "lr.fit(x_tr_SMOTE, y_tr_SMOTE)\n",
    "y_te_pred = lr.predict(x_te.values)\n",
    "\n",
    "print(\"score is\", lr.score(x_te.values,y_te))\n",
    "print(\"coher_kappa score is\", cohen_kappa_score(y_te, y_te_pred))\n",
    "print(classification_report(y_te, y_te_pred, zero_division = 0))"
   ]
  },
  {
   "cell_type": "code",
   "execution_count": 33,
   "id": "5c56b972",
   "metadata": {},
   "outputs": [
    {
     "data": {
      "text/plain": [
       "<sklearn.metrics._plot.confusion_matrix.ConfusionMatrixDisplay at 0x1d0a35578b0>"
      ]
     },
     "execution_count": 33,
     "metadata": {},
     "output_type": "execute_result"
    },
    {
     "data": {
      "image/png": "[encoded data removed]",
      "text/plain": [
       "<Figure size 640x480 with 2 Axes>"
      ]
     },
     "metadata": {},
     "output_type": "display_data"
    }
   ],
   "source": [
    "conf_mat = confusion_matrix(y_te, y_te_pred)\n",
    "ConfusionMatrixDisplay(conf_mat, display_labels=lr.classes_).plot()"
   ]
  },
  {
   "cell_type": "markdown",
   "id": "9cadc444",
   "metadata": {},
   "source": [
    "there is some improvement: cohen kappa is higher, churn == yes is predicted more correctly"
   ]
  }
 ],
 "metadata": {
  "kernelspec": {
   "display_name": "Python 3 (ipykernel)",
   "language": "python",
   "name": "python3"
  },
  "language_info": {
   "codemirror_mode": {
    "name": "ipython",
    "version": 3
   },
   "file_extension": ".py",
   "mimetype": "text/x-python",
   "name": "python",
   "nbconvert_exporter": "python",
   "pygments_lexer": "ipython3",
   "version": "3.9.13"
  }
 },
 "nbformat": 4,
 "nbformat_minor": 5
}
